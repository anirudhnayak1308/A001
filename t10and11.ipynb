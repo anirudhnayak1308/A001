{
 "cells": [
  {
   "cell_type": "markdown",
   "metadata": {},
   "source": [
    "# Task 10"
   ]
  },
  {
   "cell_type": "code",
   "execution_count": 3,
   "metadata": {},
   "outputs": [
    {
     "name": "stdout",
     "output_type": "stream",
     "text": [
      "10\n",
      "9\n",
      "8\n",
      "7\n",
      "6\n",
      "5\n",
      "4\n",
      "3\n",
      "2\n",
      "1\n"
     ]
    }
   ],
   "source": [
    "num = 10\n",
    "while(num<=10):\n",
    "    print(num)\n",
    "    num -=1\n",
    "    if num==0:\n",
    "        break   "
   ]
  },
  {
   "cell_type": "markdown",
   "metadata": {},
   "source": [
    "# Task 11.2"
   ]
  },
  {
   "cell_type": "code",
   "execution_count": 9,
   "metadata": {},
   "outputs": [
    {
     "name": "stdout",
     "output_type": "stream",
     "text": [
      "Enter num110\n",
      "Enter num210\n",
      "press 1 for addition,2 for subtraction,3 for multiplication and 4 for division\n",
      "3\n",
      "100\n"
     ]
    }
   ],
   "source": [
    "num1 = int(input('Enter num1'))\n",
    "num2 = int(input('Enter num2'))\n",
    "print('press 1 for addition,2 for subtraction,3 for multiplication and 4 for division')\n",
    "a = int(input())\n",
    "\n",
    "def add(num1,num2):\n",
    "    print(num1 + num2)\n",
    "def sub(num1,num2):\n",
    "    print(num1 - num2)\n",
    "def mul(num1,num2):\n",
    "    print(num1 * num2)\n",
    "def div(num1,num2):\n",
    "    print(num1/num2)\n",
    "\n",
    "if a == 1:\n",
    "    add(num1,num2)\n",
    "    \n",
    "if a == 2:\n",
    "    sub(num1,num2)\n",
    "    \n",
    "if a == 3:\n",
    "    mul(num1,num2)\n",
    "    \n",
    "if a == 4:\n",
    "    div(num1,num2)\n",
    "    "
   ]
  },
  {
   "cell_type": "code",
   "execution_count": null,
   "metadata": {},
   "outputs": [],
   "source": []
  }
 ],
 "metadata": {
  "kernelspec": {
   "display_name": "Python 3",
   "language": "python",
   "name": "python3"
  },
  "language_info": {
   "codemirror_mode": {
    "name": "ipython",
    "version": 3
   },
   "file_extension": ".py",
   "mimetype": "text/x-python",
   "name": "python",
   "nbconvert_exporter": "python",
   "pygments_lexer": "ipython3",
   "version": "3.8.3"
  }
 },
 "nbformat": 4,
 "nbformat_minor": 4
}
