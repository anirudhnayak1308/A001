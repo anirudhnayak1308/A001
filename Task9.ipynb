{
 "cells": [
  {
   "cell_type": "code",
   "execution_count": null,
   "metadata": {},
   "outputs": [],
   "source": []
  },
  {
   "cell_type": "markdown",
   "metadata": {},
   "source": [
    "# Task 9"
   ]
  },
  {
   "cell_type": "code",
   "execution_count": 1,
   "metadata": {},
   "outputs": [
    {
     "name": "stdout",
     "output_type": "stream",
     "text": [
      "Enter num110\n",
      "Enter num220\n",
      "press 1 for addition,2 for subtraction,3 for multiplication and 4 for division\n",
      "3\n",
      "200\n"
     ]
    }
   ],
   "source": [
    "num1 = int(input('Enter num1'))\n",
    "num2 = int(input('Enter num2'))\n",
    "print('press 1 for addition,2 for subtraction,3 for multiplication and 4 for division')\n",
    "x = int(input())\n",
    "\n",
    "if x == 1:\n",
    "    z = num1 + num2\n",
    "    print(z) \n",
    "if x == 2:\n",
    "    z = num1 - num2\n",
    "    print(z)\n",
    "if x == 3:\n",
    "    z = num1 * num2\n",
    "    print(z)\n",
    "else:\n",
    "    z= num1/num2\n",
    "    print(z)   "
   ]
  },
  {
   "cell_type": "code",
   "execution_count": null,
   "metadata": {},
   "outputs": [],
   "source": []
  }
 ],
 "metadata": {
  "kernelspec": {
   "display_name": "Python 3",
   "language": "python",
   "name": "python3"
  },
  "language_info": {
   "codemirror_mode": {
    "name": "ipython",
    "version": 3
   },
   "file_extension": ".py",
   "mimetype": "text/x-python",
   "name": "python",
   "nbconvert_exporter": "python",
   "pygments_lexer": "ipython3",
   "version": "3.8.3"
  }
 },
 "nbformat": 4,
 "nbformat_minor": 4
}
