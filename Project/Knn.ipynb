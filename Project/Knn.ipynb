{
  "nbformat": 4,
  "nbformat_minor": 0,
  "metadata": {
    "colab": {
      "name": "Knn.ipynb",
      "provenance": [],
      "authorship_tag": "ABX9TyMoo0pDYH0bMdhQ+76nQe3Z",
      "include_colab_link": true
    },
    "kernelspec": {
      "name": "python3",
      "display_name": "Python 3"
    },
    "language_info": {
      "name": "python"
    }
  },
  "cells": [
    {
      "cell_type": "markdown",
      "metadata": {
        "id": "view-in-github",
        "colab_type": "text"
      },
      "source": [
        "<a href=\"https://colab.research.google.com/github/anirudhnayak1308/Netzwerk/blob/main/Knn.ipynb\" target=\"_parent\"><img src=\"https://colab.research.google.com/assets/colab-badge.svg\" alt=\"Open In Colab\"/></a>"
      ]
    },
    {
      "cell_type": "markdown",
      "metadata": {
        "id": "M0asSK3IjXy_"
      },
      "source": [
        "#Knn Algorithm"
      ]
    },
    {
      "cell_type": "code",
      "metadata": {
        "id": "nt89CA6Djc7S"
      },
      "source": [
        "#importing the libraries\n",
        "import pandas as pd\n",
        "import numpy as np\n",
        "from matplotlib import pyplot as plt"
      ],
      "execution_count": 1,
      "outputs": []
    },
    {
      "cell_type": "code",
      "metadata": {
        "colab": {
          "base_uri": "https://localhost:8080/",
          "height": 204
        },
        "id": "MTa8CBvUj0uo",
        "outputId": "27fb7c50-f76e-436e-beba-e9334b56d415"
      },
      "source": [
        "#importing the dataset\n",
        "df = pd.read_csv('/content/Social_network.csv')\n",
        "df.head()"
      ],
      "execution_count": 2,
      "outputs": [
        {
          "output_type": "execute_result",
          "data": {
            "text/html": [
              "<div>\n",
              "<style scoped>\n",
              "    .dataframe tbody tr th:only-of-type {\n",
              "        vertical-align: middle;\n",
              "    }\n",
              "\n",
              "    .dataframe tbody tr th {\n",
              "        vertical-align: top;\n",
              "    }\n",
              "\n",
              "    .dataframe thead th {\n",
              "        text-align: right;\n",
              "    }\n",
              "</style>\n",
              "<table border=\"1\" class=\"dataframe\">\n",
              "  <thead>\n",
              "    <tr style=\"text-align: right;\">\n",
              "      <th></th>\n",
              "      <th>Age</th>\n",
              "      <th>EstimatedSalary</th>\n",
              "      <th>Purchased</th>\n",
              "    </tr>\n",
              "  </thead>\n",
              "  <tbody>\n",
              "    <tr>\n",
              "      <th>0</th>\n",
              "      <td>19</td>\n",
              "      <td>19000</td>\n",
              "      <td>0</td>\n",
              "    </tr>\n",
              "    <tr>\n",
              "      <th>1</th>\n",
              "      <td>35</td>\n",
              "      <td>20000</td>\n",
              "      <td>0</td>\n",
              "    </tr>\n",
              "    <tr>\n",
              "      <th>2</th>\n",
              "      <td>26</td>\n",
              "      <td>43000</td>\n",
              "      <td>0</td>\n",
              "    </tr>\n",
              "    <tr>\n",
              "      <th>3</th>\n",
              "      <td>27</td>\n",
              "      <td>57000</td>\n",
              "      <td>0</td>\n",
              "    </tr>\n",
              "    <tr>\n",
              "      <th>4</th>\n",
              "      <td>19</td>\n",
              "      <td>76000</td>\n",
              "      <td>0</td>\n",
              "    </tr>\n",
              "  </tbody>\n",
              "</table>\n",
              "</div>"
            ],
            "text/plain": [
              "   Age  EstimatedSalary  Purchased\n",
              "0   19            19000          0\n",
              "1   35            20000          0\n",
              "2   26            43000          0\n",
              "3   27            57000          0\n",
              "4   19            76000          0"
            ]
          },
          "metadata": {
            "tags": []
          },
          "execution_count": 2
        }
      ]
    },
    {
      "cell_type": "markdown",
      "metadata": {
        "id": "Ykh85CePkEgN"
      },
      "source": [
        "#initializing the x and y"
      ]
    },
    {
      "cell_type": "code",
      "metadata": {
        "id": "B1iGE0e9kC6r"
      },
      "source": [
        "x = df.iloc[:, :-1].values\n",
        "y = df.iloc[:, -1].values"
      ],
      "execution_count": 3,
      "outputs": []
    },
    {
      "cell_type": "markdown",
      "metadata": {
        "id": "2PrBlnZZk3yh"
      },
      "source": [
        "Splitting data into training and testing"
      ]
    },
    {
      "cell_type": "code",
      "metadata": {
        "id": "FPklUd41kkWV"
      },
      "source": [
        "from sklearn.model_selection import train_test_split\n",
        "x_test, x_train, y_test, y_train = train_test_split(x,y,test_size=0.2,random_state= 2)"
      ],
      "execution_count": 6,
      "outputs": []
    },
    {
      "cell_type": "markdown",
      "metadata": {
        "id": "AZaZLilNlaN5"
      },
      "source": [
        "Feature Scaling"
      ]
    },
    {
      "cell_type": "code",
      "metadata": {
        "id": "j3-uqf09lWMb"
      },
      "source": [
        "from sklearn.preprocessing import StandardScaler\n",
        "sc = StandardScaler()\n",
        "x_train = sc.fit_transform(x_train)\n",
        "x_test = sc.transform(x_test)"
      ],
      "execution_count": 7,
      "outputs": []
    },
    {
      "cell_type": "code",
      "metadata": {
        "colab": {
          "base_uri": "https://localhost:8080/"
        },
        "id": "FftZG-pUl-zi",
        "outputId": "3dc83fdc-8795-49cf-a792-6ec42bc2bda4"
      },
      "source": [
        "x_train"
      ],
      "execution_count": 8,
      "outputs": [
        {
          "output_type": "execute_result",
          "data": {
            "text/plain": [
              "array([[-0.74651519,  0.33929263],\n",
              "       [-1.48154554, -1.59952242],\n",
              "       [-0.01148485, -0.52883351],\n",
              "       [-0.74651519,  0.10779233],\n",
              "       [ 1.55045463, -0.03689536],\n",
              "       [ 0.90730308, -1.48377227],\n",
              "       [-1.29778795,  0.3103551 ],\n",
              "       [-0.83839399, -1.13652181],\n",
              "       [ 0.26415153, -0.32627074],\n",
              "       [-0.10336364,  1.58360677],\n",
              "       [-1.20590916, -1.39695965],\n",
              "       [-1.38966674, -1.2812095 ],\n",
              "       [-0.47087881,  1.32316893],\n",
              "       [ 0.7235455 ,  0.22354248],\n",
              "       [-0.19524244, -0.35520828],\n",
              "       [-0.37900002, -0.81820889],\n",
              "       [-1.66530312, -0.03689536],\n",
              "       [ 2.10172739, -0.84714643],\n",
              "       [ 1.45857584,  0.02097972],\n",
              "       [-1.02215157, -0.81820889],\n",
              "       [-0.01148485,  0.19460494],\n",
              "       [ 0.7235455 , -0.76033381],\n",
              "       [-0.6546364 , -0.26839567],\n",
              "       [-0.10336364, -1.10758427],\n",
              "       [-1.11403037,  0.25248002],\n",
              "       [ 0.7235455 , -1.13652181],\n",
              "       [ 0.7235455 , -1.42589719],\n",
              "       [ 0.26415153, -0.41308336],\n",
              "       [ 0.6316667 ,  1.95979477],\n",
              "       [-0.47087881,  0.83123078],\n",
              "       [-1.20590916, -0.47095843],\n",
              "       [ 0.35603032, -0.55777105],\n",
              "       [ 0.81542429, -1.39695965],\n",
              "       [ 0.08039394, -0.35520828],\n",
              "       [-0.47087881,  2.27810769],\n",
              "       [-0.19524244,  0.57079294],\n",
              "       [ 0.99918187,  0.07885479],\n",
              "       [-0.19524244, -1.39695965],\n",
              "       [-0.74651519, -0.81820889],\n",
              "       [ 0.90730308,  1.03379355],\n",
              "       [-0.19524244, -0.93395904],\n",
              "       [ 0.44790912, -0.18158305],\n",
              "       [-0.93027278,  0.48398032],\n",
              "       [ 0.44790912,  0.25248002],\n",
              "       [-1.75718192, -0.09477044],\n",
              "       [ 0.90730308, -0.58670859],\n",
              "       [-1.20590916,  0.36823017],\n",
              "       [ 0.90730308, -1.07864673],\n",
              "       [ 0.99918187,  1.38104401],\n",
              "       [-1.02215157, -1.62845996],\n",
              "       [-0.93027278,  0.71548063],\n",
              "       [ 0.44790912,  2.24917015],\n",
              "       [-0.28712123,  0.02097972],\n",
              "       [ 0.17227274,  0.22354248],\n",
              "       [-1.02215157,  1.35210647],\n",
              "       [-1.38966674, -0.23945813],\n",
              "       [ 0.35603032, -1.19439689],\n",
              "       [ 0.44790912,  1.06273109],\n",
              "       [ 0.53978791,  1.78616954],\n",
              "       [-0.56275761,  0.07885479],\n",
              "       [-1.02215157,  0.36823017],\n",
              "       [ 2.0098486 ,  1.69935693],\n",
              "       [ 1.9179698 ,  0.68654309],\n",
              "       [ 0.35603032, -0.00795782],\n",
              "       [-1.11403037,  0.5418554 ],\n",
              "       [-0.19524244,  2.19129507],\n",
              "       [ 0.7235455 , -1.31014704],\n",
              "       [-0.10336364, -0.49989597],\n",
              "       [-0.56275761, -0.09477044],\n",
              "       [ 1.82609101, -1.31014704],\n",
              "       [-0.01148485, -0.26839567],\n",
              "       [ 1.9179698 ,  0.86016832],\n",
              "       [-0.37900002, -0.58670859],\n",
              "       [-0.74651519, -0.81820889],\n",
              "       [ 1.73421222,  1.78616954],\n",
              "       [-0.19524244,  0.02097972],\n",
              "       [ 2.10172739,  0.88910586],\n",
              "       [-1.20590916, -0.38414582],\n",
              "       [ 1.64233343,  1.55466923],\n",
              "       [-1.57342433,  0.3103551 ]])"
            ]
          },
          "metadata": {
            "tags": []
          },
          "execution_count": 8
        }
      ]
    },
    {
      "cell_type": "markdown",
      "metadata": {
        "id": "9KafJNkkmINc"
      },
      "source": [
        "Training using Knn alogorithm"
      ]
    },
    {
      "cell_type": "code",
      "metadata": {
        "colab": {
          "base_uri": "https://localhost:8080/"
        },
        "id": "UhA-PXH2mA6-",
        "outputId": "378d67c2-45d1-4f76-fd99-10ec15fea8c3"
      },
      "source": [
        "from sklearn.neighbors import KNeighborsClassifier\n",
        "cls = KNeighborsClassifier(n_neighbors=5)\n",
        "cls.fit(x_train,y_train)"
      ],
      "execution_count": 9,
      "outputs": [
        {
          "output_type": "execute_result",
          "data": {
            "text/plain": [
              "KNeighborsClassifier(algorithm='auto', leaf_size=30, metric='minkowski',\n",
              "                     metric_params=None, n_jobs=None, n_neighbors=5, p=2,\n",
              "                     weights='uniform')"
            ]
          },
          "metadata": {
            "tags": []
          },
          "execution_count": 9
        }
      ]
    },
    {
      "cell_type": "markdown",
      "metadata": {
        "id": "qSf6CwhNmzW7"
      },
      "source": [
        "#Testing the model"
      ]
    },
    {
      "cell_type": "code",
      "metadata": {
        "id": "EmKfXtQzm24u"
      },
      "source": [
        "y_pred = cls.predict(x_test)"
      ],
      "execution_count": 10,
      "outputs": []
    },
    {
      "cell_type": "markdown",
      "metadata": {
        "id": "WgjivqAjnCdX"
      },
      "source": [
        "Checking the accuracy"
      ]
    },
    {
      "cell_type": "code",
      "metadata": {
        "colab": {
          "base_uri": "https://localhost:8080/"
        },
        "id": "MlPYD233nBgI",
        "outputId": "461d6bcf-0e3d-417e-a64d-36096a8e93ff"
      },
      "source": [
        "from sklearn.metrics import confusion_matrix,accuracy_score\n",
        "cm = confusion_matrix(y_test,y_pred)\n",
        "print(cm)\n",
        "print('The accuracy is :', accuracy_score(y_test,y_pred))"
      ],
      "execution_count": 12,
      "outputs": [
        {
          "output_type": "stream",
          "text": [
            "[[187  22]\n",
            " [ 10 101]]\n",
            "The accuracy is : 0.9\n"
          ],
          "name": "stdout"
        }
      ]
    },
    {
      "cell_type": "markdown",
      "metadata": {
        "id": "mqXC0Dlcn2dk"
      },
      "source": [
        "#Predicting for new value"
      ]
    },
    {
      "cell_type": "code",
      "metadata": {
        "colab": {
          "base_uri": "https://localhost:8080/"
        },
        "id": "AqnMT6VqnBbg",
        "outputId": "4d0cc2fc-9d0b-4eca-dad5-39572d782ed4"
      },
      "source": [
        "output = cls.predict([[25, 22000]])\n",
        "output"
      ],
      "execution_count": 22,
      "outputs": [
        {
          "output_type": "execute_result",
          "data": {
            "text/plain": [
              "array([1])"
            ]
          },
          "metadata": {
            "tags": []
          },
          "execution_count": 22
        }
      ]
    },
    {
      "cell_type": "markdown",
      "metadata": {
        "id": "3wJN48yco5U7"
      },
      "source": [
        "#Asking input from the user\n"
      ]
    },
    {
      "cell_type": "code",
      "metadata": {
        "colab": {
          "base_uri": "https://localhost:8080/"
        },
        "id": "Aqrjc66soHoN",
        "outputId": "40ba4224-244b-4e35-ea3c-cc8f072423a0"
      },
      "source": [
        "print('User Input')\n",
        "age = float(input('Enter age :'))\n",
        "Esalary = float(input('Enter salary :'))\n",
        "output = cls.predict([[age,Esalary]])\n",
        "print('The result is {} if person is aged {} and his salary is {}'.format(output[0] if output else 'Not',age,Esalary) )"
      ],
      "execution_count": 23,
      "outputs": [
        {
          "output_type": "stream",
          "text": [
            "User Input\n",
            "Enter age :19\n",
            "Enter salary :19000\n",
            "The result is 1 if person is aged 19.0 and his salary is 19000.0\n"
          ],
          "name": "stdout"
        }
      ]
    }
  ]
}
